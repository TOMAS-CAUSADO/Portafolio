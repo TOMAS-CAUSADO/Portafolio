{
  "cells": [
    {
      "cell_type": "code",
      "execution_count": 2,
      "metadata": {
        "id": "GXyYlGdotVFV"
      },
      "outputs": [],
      "source": [
        "#la logica implementada es la misma, con la diferencia que para poder ganar en el table 4 x 4 cambiaria \n",
        "# que deberian haber 4 figuras el line de la misma sea x o 0 lo unico que cambio fueron la cantidad de columnas\n",
        "from collections import deque\n",
        "\n",
        "turno = deque([\"0\", \"X\"])\n",
        "tablero = [\n",
        "\t[\" \",  \" \",  \" \",  \" \"],\n",
        "\t[\" \",  \" \",  \" \",  \" \"],\n",
        "\t[\" \",  \" \",  \" \",  \" \"],\n",
        "\t[\" \",  \" \",  \" \",  \" \"],\n",
        "]"
      ]
    },
    {
      "cell_type": "code",
      "execution_count": null,
      "metadata": {
        "id": "-PYfrR0RtdBK"
      },
      "outputs": [],
      "source": [
        "def mostrar_tablero():\n",
        "\tprint(\"\")\n",
        "\tfor fila in tablero:\t\t\n",
        "\t\tprint (fila)\n",
        "\n",
        "def actualizar_tablero(posicion, jugador):\n",
        "\ttablero[posicion[0]][posicion[1]] = jugador\n",
        "\n",
        "def rotar_turno():\n",
        "\tturno.rotate()\n",
        "\treturn turno[0]"
      ]
    },
    {
      "cell_type": "code",
      "execution_count": null,
      "metadata": {
        "id": "QsgNUe7gthD-"
      },
      "outputs": [],
      "source": [
        "def procesar_posicion(posicion):\n",
        "\tfila, columna = posicion.split(\",\")\n",
        "\treturn [int(fila)-1, int(columna)-1]\n",
        "\n",
        "def posicion_correcta(posicion):\n",
        "\tif 0 <= posicion[0] <= 3 and 0 <= posicion[1] <= 3:\n",
        "\t\tif tablero[posicion[0]][posicion[1]] == \" \":\n",
        "\t\t\treturn True\n",
        "\treturn False"
      ]
    },
    {
      "cell_type": "code",
      "execution_count": 11,
      "metadata": {
        "id": "Kmy1j7IFtx_Y"
      },
      "outputs": [],
      "source": [
        "def ha_ganado(j):\n",
        "\t#compara las filas del tablero\n",
        "\tif tablero[0] == [j,j,j] or tablero[1] == [j,j,j] or tablero[2] == [j,j,j]:\n",
        "\t\treturn True\n",
        "\t#compara las columnas\n",
        "\telif tablero[0][0] == j and tablero[1][0] == j and tablero[2][0] == j:\n",
        "\t\treturn True\n",
        "\telif tablero[0][1] == j and tablero[1][1] == j and tablero[2][1] == j:\n",
        "\t\treturn True\n",
        "\telif tablero[0][2] == j and tablero[1][2] == j and tablero[2][2] == j:\n",
        "\t\treturn True\n",
        "\t#compara las diagonales\n",
        "\telif tablero[0][0] == j and tablero[1][1] == j and tablero[2][2] == j:\n",
        "\t\treturn True\n",
        "\telif tablero[0][2] == j and tablero[1][1] == j and tablero[2][0] == j:\n",
        "\t\treturn True\n",
        "\treturn False"
      ]
    },
    {
      "cell_type": "code",
      "execution_count": 3,
      "metadata": {
        "colab": {
          "base_uri": "https://localhost:8080/",
          "height": 321
        },
        "id": "qz2WSdMvt7um",
        "outputId": "040b2c43-4630-4603-c76d-74728b8c2714"
      },
      "outputs": [
        {
          "output_type": "error",
          "ename": "NameError",
          "evalue": "ignored",
          "traceback": [
            "\u001b[0;31m---------------------------------------------------------------------------\u001b[0m",
            "\u001b[0;31mNameError\u001b[0m                                 Traceback (most recent call last)",
            "\u001b[0;32m<ipython-input-3-aae4039a73ba>\u001b[0m in \u001b[0;36m<module>\u001b[0;34m\u001b[0m\n\u001b[1;32m     22\u001b[0m                         \u001b[0mprint\u001b[0m \u001b[0;34m(\u001b[0m\u001b[0;34m\"Posicion {} no válida\"\u001b[0m\u001b[0;34m.\u001b[0m\u001b[0mformat\u001b[0m\u001b[0;34m(\u001b[0m\u001b[0mposicion\u001b[0m\u001b[0;34m)\u001b[0m\u001b[0;34m)\u001b[0m\u001b[0;34m\u001b[0m\u001b[0;34m\u001b[0m\u001b[0m\n\u001b[1;32m     23\u001b[0m \u001b[0;34m\u001b[0m\u001b[0m\n\u001b[0;32m---> 24\u001b[0;31m \u001b[0mjuego\u001b[0m\u001b[0;34m(\u001b[0m\u001b[0;34m)\u001b[0m\u001b[0;34m\u001b[0m\u001b[0;34m\u001b[0m\u001b[0m\n\u001b[0m",
            "\u001b[0;32m<ipython-input-3-aae4039a73ba>\u001b[0m in \u001b[0;36mjuego\u001b[0;34m()\u001b[0m\n\u001b[1;32m      1\u001b[0m \u001b[0;32mdef\u001b[0m \u001b[0mjuego\u001b[0m\u001b[0;34m(\u001b[0m\u001b[0;34m)\u001b[0m\u001b[0;34m:\u001b[0m\u001b[0;34m\u001b[0m\u001b[0;34m\u001b[0m\u001b[0m\n\u001b[0;32m----> 2\u001b[0;31m         \u001b[0mmostrar_tablero\u001b[0m\u001b[0;34m(\u001b[0m\u001b[0;34m)\u001b[0m\u001b[0;34m\u001b[0m\u001b[0;34m\u001b[0m\u001b[0m\n\u001b[0m\u001b[1;32m      3\u001b[0m         \u001b[0mjugador\u001b[0m \u001b[0;34m=\u001b[0m \u001b[0mrotar_turno\u001b[0m\u001b[0;34m(\u001b[0m\u001b[0;34m)\u001b[0m\u001b[0;34m\u001b[0m\u001b[0;34m\u001b[0m\u001b[0m\n\u001b[1;32m      4\u001b[0m         \u001b[0;32mwhile\u001b[0m \u001b[0;32mTrue\u001b[0m\u001b[0;34m:\u001b[0m\u001b[0;34m\u001b[0m\u001b[0;34m\u001b[0m\u001b[0m\n\u001b[1;32m      5\u001b[0m                 \u001b[0mposicion\u001b[0m \u001b[0;34m=\u001b[0m \u001b[0minput\u001b[0m\u001b[0;34m(\u001b[0m\u001b[0;34m\"Juega {}, elige una posicion (fila, columna) de 1 a 3. 'salir' para salir\"\u001b[0m\u001b[0;34m.\u001b[0m\u001b[0mformat\u001b[0m\u001b[0;34m(\u001b[0m\u001b[0mjugador\u001b[0m\u001b[0;34m)\u001b[0m\u001b[0;34m)\u001b[0m\u001b[0;34m\u001b[0m\u001b[0;34m\u001b[0m\u001b[0m\n",
            "\u001b[0;31mNameError\u001b[0m: name 'mostrar_tablero' is not defined"
          ]
        }
      ],
      "source": [
        "def juego():\n",
        "\tmostrar_tablero()\n",
        "\tjugador = rotar_turno()\n",
        "\twhile True:\n",
        "\t\tposicion = input(\"Juega {}, elige una posicion (fila, columna) de 1 a 3. 'salir' para salir\".format(jugador))\n",
        "\t\tif posicion == 'salir':\n",
        "\t\t\tprint (\"Adios!!!\")\n",
        "\t\t\tbreak\n",
        "\t\ttry:\n",
        "\t\t\tposicion_l = procesar_posicion (posicion)\t\t\t\n",
        "\t\texcept:\n",
        "\t\t\tprint (\"Error, posicion {} no es válida. \".format(posicion))\n",
        "\t\t\tcontinue\n",
        "\t\tif posicion_correcta(posicion_l):\n",
        "\t\t\tactualizar_tablero(posicion_l, jugador)\n",
        "\t\t\tmostrar_tablero()\n",
        "\t\t\tif ha_ganado(jugador):\n",
        "\t\t\t\tprint (\"Jugador de {} ha ganado!!!\".format(jugador))\n",
        "\t\t\t\tbreak\n",
        "\t\t\tjugador = rotar_turno()\n",
        "\t\telse:\n",
        "\t\t\tprint (\"Posicion {} no válida\".format(posicion))\n",
        "\t\n",
        "juego()"
      ]
    }
  ],
  "metadata": {
    "colab": {
      "provenance": []
    },
    "kernelspec": {
      "display_name": "Python 3",
      "name": "python3"
    },
    "language_info": {
      "name": "python"
    }
  },
  "nbformat": 4,
  "nbformat_minor": 0
}